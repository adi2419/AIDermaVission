{
 "cells": [
  {
   "cell_type": "code",
   "execution_count": 1,
   "id": "5e2d7e96-717c-41fb-8940-07af7699aefc",
   "metadata": {},
   "outputs": [],
   "source": [
    "import pandas as pd\n",
    "import numpy as np\n",
    "from surprise import Dataset, Reader, KNNBasic\n",
    "from surprise.model_selection import train_test_split as surprise_train_test_split\n",
    "from surprise import accuracy\n",
    "\n"
   ]
  },
  {
   "cell_type": "code",
   "execution_count": 2,
   "id": "76cfbd3f-79a2-452b-b7d8-dec72b16d4de",
   "metadata": {},
   "outputs": [
    {
     "name": "stdout",
     "output_type": "stream",
     "text": [
      "    Skin_type Sensitivity Blood_group Hyperpigmentation_type  \\\n",
      "0        Oily         Yes          A+            Sun_induced   \n",
      "1        Oily         Yes          A-            Sun_induced   \n",
      "2        Oily         Yes          B+            Sun_induced   \n",
      "3        Oily         Yes          B-            Sun_induced   \n",
      "4        Oily         Yes          O+            Sun_induced   \n",
      "..        ...         ...         ...                    ...   \n",
      "166    Normal          No          B-              Age_spots   \n",
      "167    Normal          No          O+              Age_spots   \n",
      "168    Normal          No          O-              Age_spots   \n",
      "169    Normal          No         AB+              Age_spots   \n",
      "170    Normal          No         AB-              Age_spots   \n",
      "\n",
      "                                                Remedy  Remedy_ID  \n",
      "0    Apple cider vinegar and water toner: Mix 1 par...          1  \n",
      "1    Strawberry and yogurt mask: Blend strawberries...          2  \n",
      "2    Avocado and honey mask: Mash avocado and mix w...          3  \n",
      "3    Aloe vera and chamomile gel: Mix aloe vera gel...          4  \n",
      "4    Banana and yogurt face pack: Blend banana and ...          5  \n",
      "..                                                 ...        ...  \n",
      "166  Baking soda and olive oil: Mix baking soda wit...        167  \n",
      "167  Strawberry and buttermilk: Mash strawberries a...        168  \n",
      "168  Papaya and honey: Mash papaya and mix with hon...        169  \n",
      "169  Carrot puree and coconut milk: Blend cooked ca...        170  \n",
      "170  Chamomile tea and honey: Brew chamomile tea, l...        171  \n",
      "\n",
      "[171 rows x 6 columns]\n"
     ]
    }
   ],
   "source": [
    "df = pd.read_csv('modified_remedy_data.csv')\n",
    "print(df)"
   ]
  },
  {
   "cell_type": "code",
   "execution_count": 3,
   "id": "a1fd9185-4455-4fcb-b19d-824162532de5",
   "metadata": {},
   "outputs": [
    {
     "name": "stdout",
     "output_type": "stream",
     "text": [
      "    Skin_type Sensitivity Blood_group Hyperpigmentation_type  \\\n",
      "0        Oily         Yes          A+            Sun_induced   \n",
      "1        Oily         Yes          A-            Sun_induced   \n",
      "2        Oily         Yes          B+            Sun_induced   \n",
      "3        Oily         Yes          B-            Sun_induced   \n",
      "4        Oily         Yes          O+            Sun_induced   \n",
      "..        ...         ...         ...                    ...   \n",
      "166    Normal          No          B-              Age_spots   \n",
      "167    Normal          No          O+              Age_spots   \n",
      "168    Normal          No          O-              Age_spots   \n",
      "169    Normal          No         AB+              Age_spots   \n",
      "170    Normal          No         AB-              Age_spots   \n",
      "\n",
      "                                                Remedy  Remedy_ID  \\\n",
      "0    Apple cider vinegar and water toner: Mix 1 par...          1   \n",
      "1    Strawberry and yogurt mask: Blend strawberries...          2   \n",
      "2    Avocado and honey mask: Mash avocado and mix w...          3   \n",
      "3    Aloe vera and chamomile gel: Mix aloe vera gel...          4   \n",
      "4    Banana and yogurt face pack: Blend banana and ...          5   \n",
      "..                                                 ...        ...   \n",
      "166  Baking soda and olive oil: Mix baking soda wit...        167   \n",
      "167  Strawberry and buttermilk: Mash strawberries a...        168   \n",
      "168  Papaya and honey: Mash papaya and mix with hon...        169   \n",
      "169  Carrot puree and coconut milk: Blend cooked ca...        170   \n",
      "170  Chamomile tea and honey: Brew chamomile tea, l...        171   \n",
      "\n",
      "                     user_id  rating  \n",
      "0    Oily_Yes_A+_Sun_induced       4  \n",
      "1    Oily_Yes_A-_Sun_induced       5  \n",
      "2    Oily_Yes_B+_Sun_induced       3  \n",
      "3    Oily_Yes_B-_Sun_induced       5  \n",
      "4    Oily_Yes_O+_Sun_induced       5  \n",
      "..                       ...     ...  \n",
      "166   Normal_No_B-_Age_spots       4  \n",
      "167   Normal_No_O+_Age_spots       3  \n",
      "168   Normal_No_O-_Age_spots       1  \n",
      "169  Normal_No_AB+_Age_spots       4  \n",
      "170  Normal_No_AB-_Age_spots       1  \n",
      "\n",
      "[171 rows x 8 columns]\n"
     ]
    }
   ],
   "source": [
    "df['user_id'] = df[['Skin_type', 'Sensitivity', 'Blood_group', 'Hyperpigmentation_type']].apply(lambda x: '_'.join(x), axis=1)\n",
    "np.random.seed(42)\n",
    "df['rating'] = np.random.randint(1, 6, df.shape[0])\n",
    "print(df)"
   ]
  },
  {
   "cell_type": "code",
   "execution_count": 4,
   "id": "f8c4b06a-ab77-4414-a60b-7cd5cc18a50e",
   "metadata": {},
   "outputs": [
    {
     "name": "stdout",
     "output_type": "stream",
     "text": [
      "<surprise.reader.Reader object at 0x11ecd3af0>\n",
      "<surprise.dataset.DatasetAutoFolds object at 0x11ecd3d30>\n"
     ]
    }
   ],
   "source": [
    "reader = Reader(rating_scale=(1, 5)) \n",
    "print (reader)\n",
    "data = Dataset.load_from_df(df[['user_id', 'Remedy_ID', 'rating']], reader)\n",
    "print(data)\n"
   ]
  },
  {
   "cell_type": "code",
   "execution_count": 5,
   "id": "e6caad54-bb12-48ad-9cbc-32955b6d1369",
   "metadata": {},
   "outputs": [],
   "source": [
    "trainset, testset = surprise_train_test_split(data, test_size=0.25)"
   ]
  },
  {
   "cell_type": "code",
   "execution_count": 6,
   "id": "830a8aaa-2aac-40f4-9e7b-e9a9c9a8a59f",
   "metadata": {},
   "outputs": [],
   "source": [
    "\n",
    "# A) User-based Collaborative Filtering (UBCF) using KNNBasic\n",
    "sim_options_user_based = {\n",
    "    'name': 'cosine',  # Cosine similarity\n",
    "    'user_based': True  # True for user-based filtering\n",
    "}\n"
   ]
  },
  {
   "cell_type": "code",
   "execution_count": 7,
   "id": "d5cebd97-ff39-4b8e-9503-0edd3ad16452",
   "metadata": {},
   "outputs": [
    {
     "name": "stdout",
     "output_type": "stream",
     "text": [
      "Computing the cosine similarity matrix...\n",
      "Done computing similarity matrix.\n"
     ]
    },
    {
     "data": {
      "text/plain": [
       "<surprise.prediction_algorithms.knns.KNNBasic at 0x11ecd30a0>"
      ]
     },
     "execution_count": 7,
     "metadata": {},
     "output_type": "execute_result"
    }
   ],
   "source": [
    "algo_user_based = KNNBasic(sim_options=sim_options_user_based)\n",
    "algo_user_based.fit(trainset)"
   ]
  },
  {
   "cell_type": "code",
   "execution_count": 8,
   "id": "46d852ba-f3ab-458a-a889-1b634cf9669f",
   "metadata": {},
   "outputs": [
    {
     "name": "stdout",
     "output_type": "stream",
     "text": [
      "User-based CF RMSE: 1.4352958605787944\n"
     ]
    }
   ],
   "source": [
    "predictions_user_based = algo_user_based.test(testset)\n",
    "rmse_user_based = accuracy.rmse(predictions_user_based, verbose=False)\n",
    "# Output the RMSE for UBCF\n",
    "print(f\"User-based CF RMSE: {rmse_user_based}\")\n"
   ]
  },
  {
   "cell_type": "code",
   "execution_count": 9,
   "id": "3b9ce16d-2379-4380-a26e-3cd29110a038",
   "metadata": {},
   "outputs": [],
   "source": [
    "def predict_remedy_ratings(skin_type, sensitivity, blood_group, hyperpigmentation_type):\n",
    "    user_id = f\"{skin_type}_{sensitivity}_{blood_group}_{hyperpigmentation_type}\"\n",
    "    predictions = []\n",
    "    remedy_ids = df['Remedy_ID'].unique()\n",
    "    for remedy_id in remedy_ids:\n",
    "        pred = algo_user_based.predict(user_id, remedy_id)\n",
    "        predictions.append((remedy_id, pred.est))\n",
    "    predictions.sort(key=lambda x: x[1], reverse=True)\n",
    "    return predictions[0] if predictions else None\n"
   ]
  },
  {
   "cell_type": "code",
   "execution_count": 11,
   "id": "f44e1c7f-e1f9-4cfd-8a43-b958efada1de",
   "metadata": {},
   "outputs": [
    {
     "name": "stdin",
     "output_type": "stream",
     "text": [
      "Enter your skin type:  oily\n",
      "Enter your sensitivity level:  yes\n",
      "Enter your blood group:  A+\n",
      "Enter your hyperpigmentation type:  Hormal, sun_induced \n"
     ]
    },
    {
     "name": "stdout",
     "output_type": "stream",
     "text": [
      "(1, 2.9140625)\n",
      "Recommended remedy: Apple cider vinegar and water toner: Mix 1 part apple cider vinegar with 3 parts water. Apply after cleansing. \n",
      "Routine: Cleanse, tone, exfoliate 1-2x/week, apply the toner daily, moisturize. (ID: 1)\n",
      "Predicted rating: 2.91\n"
     ]
    }
   ],
   "source": [
    "skin_type = input(\"Enter your skin type: \")\n",
    "sensitivity = input(\"Enter your sensitivity level: \")\n",
    "blood_group = input(\"Enter your blood group: \")\n",
    "hyperpigmentation_type = input(\"Enter your hyperpigmentation type: \")\n",
    "best_remedy = predict_remedy_ratings(skin_type, sensitivity, blood_group, hyperpigmentation_type)\n",
    "print(best_remedy)\n",
    "\n",
    "if best_remedy:\n",
    "    remedy_id, predicted_rating = best_remedy\n",
    "    remedy_details = df[df['Remedy_ID'] == remedy_id].iloc[0]  # Get details of the recommended remedy\n",
    "    \n",
    "    # Print the remedy details along with predicted rating\n",
    "    print(f\"Recommended remedy: {remedy_details['Remedy']} (ID: {remedy_id})\")\n",
    "    print(f\"Predicted rating: {predicted_rating:.2f}\")\n",
    "else:\n",
    "    print(\"No predictions could be made.\")"
   ]
  },
  {
   "cell_type": "code",
   "execution_count": null,
   "id": "fc2d69d0-9429-41ab-9b24-cd138e0f8a01",
   "metadata": {},
   "outputs": [],
   "source": []
  }
 ],
 "metadata": {
  "kernelspec": {
   "display_name": "aid",
   "language": "python",
   "name": "aid"
  },
  "language_info": {
   "codemirror_mode": {
    "name": "ipython",
    "version": 3
   },
   "file_extension": ".py",
   "mimetype": "text/x-python",
   "name": "python",
   "nbconvert_exporter": "python",
   "pygments_lexer": "ipython3",
   "version": "3.9.18"
  }
 },
 "nbformat": 4,
 "nbformat_minor": 5
}
