{
 "cells": [
  {
   "cell_type": "code",
   "execution_count": null,
   "id": "19d255f3-5a2d-4426-afcb-d0c70263fca4",
   "metadata": {},
   "outputs": [],
   "source": []
  }
 ],
 "metadata": {
  "kernelspec": {
   "display_name": "",
   "name": ""
  },
  "language_info": {
   "name": ""
  }
 },
 "nbformat": 4,
 "nbformat_minor": 5
}
