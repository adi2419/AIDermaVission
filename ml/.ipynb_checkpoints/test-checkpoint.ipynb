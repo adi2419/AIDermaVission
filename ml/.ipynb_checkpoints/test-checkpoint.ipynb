{
 "cells": [
  {
   "cell_type": "code",
   "execution_count": 7,
   "id": "0d29c607-bd8a-4e33-b5e1-57e0fe3c77e7",
   "metadata": {},
   "outputs": [
    {
     "name": "stdout",
     "output_type": "stream",
     "text": [
      "Computing the cosine similarity matrix...\n",
      "Done computing similarity matrix.\n",
      "User-based CF RMSE: 1.4352958605787944\n"
     ]
    },
    {
     "name": "stdin",
     "output_type": "stream",
     "text": [
      "Enter your skin type:  Dry\n",
      "Enter your sensitivity level:  \n",
      "Enter your blood group:  A-\n",
      "Enter your hyperpigmentation type:  Sun_induced\n"
     ]
    },
    {
     "name": "stdout",
     "output_type": "stream",
     "text": [
      "[(1, 2.9140625), (2, 2.9140625), (3, 2.9140625), (4, 2.9140625), (5, 2.9140625), (6, 2.9140625), (7, 2.9140625), (8, 2.9140625), (9, 2.9140625), (10, 2.9140625), (11, 2.9140625), (12, 2.9140625), (13, 2.9140625), (14, 2.9140625), (15, 2.9140625), (16, 2.9140625), (17, 2.9140625), (18, 2.9140625), (19, 2.9140625), (20, 2.9140625), (21, 2.9140625), (22, 2.9140625), (23, 2.9140625), (24, 2.9140625), (25, 2.9140625), (26, 2.9140625), (27, 2.9140625), (28, 2.9140625), (29, 2.9140625), (30, 2.9140625), (31, 2.9140625), (32, 2.9140625), (33, 2.9140625), (34, 2.9140625), (35, 2.9140625), (36, 2.9140625), (37, 2.9140625), (38, 2.9140625), (39, 2.9140625), (40, 2.9140625), (41, 2.9140625), (42, 2.9140625), (43, 2.9140625), (44, 2.9140625), (45, 2.9140625), (46, 2.9140625), (47, 2.9140625), (48, 2.9140625), (49, 2.9140625), (50, 2.9140625), (51, 2.9140625), (52, 2.9140625), (53, 2.9140625), (54, 2.9140625), (55, 2.9140625), (56, 2.9140625), (57, 2.9140625), (58, 2.9140625), (59, 2.9140625), (60, 2.9140625), (61, 2.9140625), (62, 2.9140625), (63, 2.9140625), (64, 2.9140625), (65, 2.9140625), (66, 2.9140625), (67, 2.9140625), (68, 2.9140625), (69, 2.9140625), (70, 2.9140625), (71, 2.9140625), (72, 2.9140625), (73, 2.9140625), (74, 2.9140625), (75, 2.9140625), (76, 2.9140625), (77, 2.9140625), (78, 2.9140625), (79, 2.9140625), (80, 2.9140625), (81, 2.9140625), (82, 2.9140625), (83, 2.9140625), (84, 2.9140625), (85, 2.9140625), (86, 2.9140625), (87, 2.9140625), (88, 2.9140625), (89, 2.9140625), (90, 2.9140625), (91, 2.9140625), (92, 2.9140625), (93, 2.9140625), (94, 2.9140625), (95, 2.9140625), (96, 2.9140625), (97, 2.9140625), (98, 2.9140625), (99, 2.9140625), (100, 2.9140625), (101, 2.9140625), (102, 2.9140625), (103, 2.9140625), (104, 2.9140625), (105, 2.9140625), (106, 2.9140625), (107, 2.9140625), (108, 2.9140625), (109, 2.9140625), (110, 2.9140625), (111, 2.9140625), (112, 2.9140625), (113, 2.9140625), (114, 2.9140625), (115, 2.9140625), (116, 2.9140625), (117, 2.9140625), (118, 2.9140625), (119, 2.9140625), (120, 2.9140625), (121, 2.9140625), (122, 2.9140625), (123, 2.9140625), (124, 2.9140625), (125, 2.9140625), (126, 2.9140625), (127, 2.9140625), (128, 2.9140625), (129, 2.9140625), (130, 2.9140625), (131, 2.9140625), (132, 2.9140625), (133, 2.9140625), (134, 2.9140625), (135, 2.9140625), (136, 2.9140625), (137, 2.9140625), (138, 2.9140625), (139, 2.9140625), (140, 2.9140625), (141, 2.9140625), (142, 2.9140625), (143, 2.9140625), (144, 2.9140625), (145, 2.9140625), (146, 2.9140625), (147, 2.9140625), (148, 2.9140625), (149, 2.9140625), (150, 2.9140625), (151, 2.9140625), (152, 2.9140625), (153, 2.9140625), (154, 2.9140625), (155, 2.9140625), (156, 2.9140625), (157, 2.9140625), (158, 2.9140625), (159, 2.9140625), (160, 2.9140625), (161, 2.9140625), (162, 2.9140625), (163, 2.9140625), (164, 2.9140625), (165, 2.9140625), (166, 2.9140625), (167, 2.9140625), (168, 2.9140625), (169, 2.9140625), (170, 2.9140625), (171, 2.9140625)]\n",
      "Recommended remedy: Apple cider vinegar and water toner: Mix 1 part apple cider vinegar with 3 parts water. Apply after cleansing. \n",
      "Routine: Cleanse, tone, exfoliate 1-2x/week, apply the toner daily, moisturize. (ID: 1)\n",
      "Predicted rating: 2.91\n"
     ]
    }
   ],
   "source": [
    "import pandas as pd\n",
    "import numpy as np\n",
    "from surprise import Dataset, Reader, KNNBasic\n",
    "from surprise.model_selection import train_test_split as surprise_train_test_split\n",
    "from surprise import accuracy\n",
    "\n",
    "#load dataset with remedy id for each remedy\n",
    "df = pd.read_csv('modified_remedy_data.csv')\n",
    "\n",
    "#combine constraints\n",
    "df['user_id'] = df[['Skin_type', 'Sensitivity', 'Blood_group', 'Hyperpigmentation_type']].apply(lambda x: '_'.join(x), axis=1)\n",
    "\n",
    "#rating process\n",
    "np.random.seed(42)\n",
    "df['rating'] = np.random.randint(1, 6, df.shape[0])  # Random ratings\n",
    "\n",
    "\n",
    "reader = Reader(rating_scale=(1, 5))  \n",
    "data = Dataset.load_from_df(df[['user_id', 'Remedy_ID', 'rating']], reader)\n",
    "\n",
    "\n",
    "#train test split\n",
    "trainset, testset = surprise_train_test_split(data, test_size=0.25)\n",
    "\n",
    "# User-based Collaborative Filtering (UBCF) using KNNBasic\n",
    "sim_options_user_based = {\n",
    "    'name': 'cosine',  # Cosine similarity\n",
    "    'user_based': True  # True for user-based filtering\n",
    "}\n",
    "\n",
    "algo_user_based = KNNBasic(sim_options=sim_options_user_based)\n",
    "algo_user_based.fit(trainset)\n",
    "\n",
    "# Predict and evaluate\n",
    "predictions_user_based = algo_user_based.test(testset)\n",
    "rmse_user_based = accuracy.rmse(predictions_user_based, verbose=False)\n",
    "\n",
    "# Output the RMSE for UBCF\n",
    "print(f\"User-based CF RMSE: {rmse_user_based}\")\n",
    "\n",
    "# Function to predict remedy ratings for all remedies based on user input\n",
    "def predict_remedy_ratings(skin_type, sensitivity, blood_group, hyperpigmentation_type):\n",
    "    user_id = f\"{skin_type}_{sensitivity}_{blood_group}_{hyperpigmentation_type}\"\n",
    "    predictions = []\n",
    "    remedy_ids = df['Remedy_ID'].unique()\n",
    "    for remedy_id in remedy_ids:\n",
    "        pred = algo_user_based.predict(user_id, remedy_id)\n",
    "        predictions.append((remedy_id, pred.est))\n",
    "    \n",
    "    # Sort predictions based on estimated ratings\n",
    "    predictions.sort(key=lambda x: x[1], reverse=True)\n",
    "    print(predictions)\n",
    "    \n",
    "    # Return the remedy with the highest predicted rating\n",
    "    return predictions[0] if predictions else None\n",
    "\n",
    "# Get custom user input\n",
    "skin_type = input(\"Enter your skin type: \")\n",
    "sensitivity = input(\"Enter your sensitivity level: \")\n",
    "blood_group = input(\"Enter your blood group: \")\n",
    "hyperpigmentation_type = input(\"Enter your hyperpigmentation type: \")\n",
    "\n",
    "# Predict and display the best remedy\n",
    "best_remedy = predict_remedy_ratings(skin_type, sensitivity, blood_group, hyperpigmentation_type)\n",
    "\n",
    "if best_remedy:\n",
    "    remedy_id, predicted_rating = best_remedy\n",
    "    remedy_details = df[df['Remedy_ID'] == remedy_id].iloc[0]  # Get details of the recommended remedy\n",
    "    \n",
    "    # Print the remedy details along with predicted rating\n",
    "    print(f\"Recommended remedy: {remedy_details['Remedy']} (ID: {remedy_id})\")\n",
    "    # print(f\"Description: {remedy_details['Description']}\")\n",
    "    print(f\"Predicted rating: {predicted_rating:.2f}\")\n",
    "else:\n",
    "    print(\"No predictions could be made.\")\n"
   ]
  },
  {
   "cell_type": "code",
   "execution_count": null,
   "id": "9e67294f-9a6d-44d3-b660-64dce34685cf",
   "metadata": {},
   "outputs": [],
   "source": []
  }
 ],
 "metadata": {
  "kernelspec": {
   "display_name": "aid",
   "language": "python",
   "name": "aid"
  },
  "language_info": {
   "codemirror_mode": {
    "name": "ipython",
    "version": 3
   },
   "file_extension": ".py",
   "mimetype": "text/x-python",
   "name": "python",
   "nbconvert_exporter": "python",
   "pygments_lexer": "ipython3",
   "version": "3.9.18"
  }
 },
 "nbformat": 4,
 "nbformat_minor": 5
}
