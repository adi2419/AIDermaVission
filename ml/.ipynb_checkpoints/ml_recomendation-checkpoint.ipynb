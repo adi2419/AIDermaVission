{
 "cells": [
  {
   "cell_type": "code",
   "execution_count": 16,
   "id": "5e2d7e96-717c-41fb-8940-07af7699aefc",
   "metadata": {},
   "outputs": [
    {
     "name": "stdout",
     "output_type": "stream",
     "text": [
      "Computing the cosine similarity matrix...\n",
      "Done computing similarity matrix.\n",
      "User-based CF RMSE: 1.4352958605787944\n"
     ]
    },
    {
     "name": "stdin",
     "output_type": "stream",
     "text": [
      "Enter your skin type:  oily\n",
      "Enter your sensitivity level:  ye\n",
      "Enter your blood group:  a+\n",
      "Enter your hyperpigmentation type:  sun_induced\n"
     ]
    },
    {
     "name": "stdout",
     "output_type": "stream",
     "text": [
      "Recommended remedy: Apple cider vinegar and water toner: Mix 1 part apple cider vinegar with 3 parts water. Apply after cleansing. \n",
      "Routine: Cleanse, tone, exfoliate 1-2x/week, apply the toner daily, moisturize. (ID: 1)\n",
      "Predicted rating: 2.91\n"
     ]
    }
   ],
   "source": [
    "import pandas as pd\n",
    "import numpy as np\n",
    "from surprise import Dataset, Reader, KNNBasic\n",
    "from surprise.model_selection import train_test_split as surprise_train_test_split\n",
    "from surprise import accuracy\n",
    "\n",
    "# Load the modified remedy dataset\n",
    "df = pd.read_csv('modified_remedy_data.csv')\n",
    "\n",
    "# Create a unique user_id based on user features (Skin_type, Sensitivity, Blood_group, etc.)\n",
    "df['user_id'] = df[['Skin_type', 'Sensitivity', 'Blood_group', 'Hyperpigmentation_type']].apply(lambda x: '_'.join(x), axis=1)\n",
    "\n",
    "# Simulate ratings for each remedy (random ratings between 1 and 5 for demonstration purposes)\n",
    "np.random.seed(42)\n",
    "df['rating'] = np.random.randint(1, 6, df.shape[0])  # Random ratings\n",
    "\n",
    "# Prepare data for Surprise library\n",
    "reader = Reader(rating_scale=(1, 5))  # Rating scale from 1 to 5\n",
    "data = Dataset.load_from_df(df[['user_id', 'Remedy_ID', 'rating']], reader)\n",
    "\n",
    "# Split the dataset into training and test sets (75% train, 25% test)\n",
    "trainset, testset = surprise_train_test_split(data, test_size=0.25)\n",
    "\n",
    "### A) User-based Collaborative Filtering (UBCF) using KNNBasic\n",
    "sim_options_user_based = {\n",
    "    'name': 'cosine',  # Cosine similarity\n",
    "    'user_based': True  # True for user-based filtering\n",
    "}\n",
    "\n",
    "algo_user_based = KNNBasic(sim_options=sim_options_user_based)\n",
    "algo_user_based.fit(trainset)\n",
    "\n",
    "# Predict and evaluate\n",
    "predictions_user_based = algo_user_based.test(testset)\n",
    "rmse_user_based = accuracy.rmse(predictions_user_based, verbose=False)\n",
    "\n",
    "# Output the RMSE for UBCF\n",
    "print(f\"User-based CF RMSE: {rmse_user_based}\")\n",
    "\n",
    "# Function to predict remedy ratings for all remedies based on user input\n",
    "def predict_remedy_ratings(skin_type, sensitivity, blood_group, hyperpigmentation_type):\n",
    "    user_id = f\"{skin_type}_{sensitivity}_{blood_group}_{hyperpigmentation_type}\"\n",
    "    # Create a list to hold predictions\n",
    "    predictions = []\n",
    "    \n",
    "    # Get all unique remedy IDs\n",
    "    remedy_ids = df['Remedy_ID'].unique()\n",
    "    \n",
    "    # Predict ratings for all remedies\n",
    "    for remedy_id in remedy_ids:\n",
    "        pred = algo_user_based.predict(user_id, remedy_id)\n",
    "        predictions.append((remedy_id, pred.est))\n",
    "    \n",
    "    # Sort predictions based on estimated ratings\n",
    "    predictions.sort(key=lambda x: x[1], reverse=True)\n",
    "    \n",
    "    # Return the remedy with the highest predicted rating\n",
    "    return predictions[0] if predictions else None\n",
    "\n",
    "# Get custom user input\n",
    "skin_type = input(\"Enter your skin type: \")\n",
    "sensitivity = input(\"Enter your sensitivity level: \")\n",
    "blood_group = input(\"Enter your blood group: \")\n",
    "hyperpigmentation_type = input(\"Enter your hyperpigmentation type: \")\n",
    "\n",
    "# Predict and display the best remedy\n",
    "best_remedy = predict_remedy_ratings(skin_type, sensitivity, blood_group, hyperpigmentation_type)\n",
    "\n",
    "if best_remedy:\n",
    "    remedy_id, predicted_rating = best_remedy\n",
    "    remedy_details = df[df['Remedy_ID'] == remedy_id].iloc[0]  # Get details of the recommended remedy\n",
    "    \n",
    "    # Print the remedy details along with predicted rating\n",
    "    print(f\"Recommended remedy: {remedy_details['Remedy']} (ID: {remedy_id})\")\n",
    "    print(f\"Predicted rating: {predicted_rating:.2f}\")\n",
    "else:\n",
    "    print(\"No predictions could be made.\")\n"
   ]
  },
  {
   "cell_type": "code",
   "execution_count": null,
   "id": "76cfbd3f-79a2-452b-b7d8-dec72b16d4de",
   "metadata": {},
   "outputs": [],
   "source": []
  }
 ],
 "metadata": {
  "kernelspec": {
   "display_name": "aid",
   "language": "python",
   "name": "aid"
  },
  "language_info": {
   "codemirror_mode": {
    "name": "ipython",
    "version": 3
   },
   "file_extension": ".py",
   "mimetype": "text/x-python",
   "name": "python",
   "nbconvert_exporter": "python",
   "pygments_lexer": "ipython3",
   "version": "3.9.18"
  }
 },
 "nbformat": 4,
 "nbformat_minor": 5
}
